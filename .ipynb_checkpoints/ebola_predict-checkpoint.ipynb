{
 "cells": [
  {
   "cell_type": "code",
   "execution_count": 3,
   "id": "f5f66c1c-c602-46ae-bc63-f05b8a3b39ff",
   "metadata": {},
   "outputs": [],
   "source": [
    "import pandas as pd\n",
    "import numpy as np\n",
    "import matplotlib.pyplot as plt\n",
    "import seaborn as sns\n",
    "from sklearn.model_selection import train_test_split\n",
    "from sklearn.preprocessing import StandardScaler\n",
    "from sklearn.ensemble import RandomForestRegressor\n",
    "from xgboost import XGBRegressor\n",
    "from sklearn.linear_model import LinearRegression\n",
    "from sklearn.metrics import mean_squared_error"
   ]
  },
  {
   "cell_type": "code",
   "execution_count": 11,
   "id": "2eb616da-4506-4e89-83b2-1a8f919491ce",
   "metadata": {},
   "outputs": [],
   "source": [
    "train_file = \"train_data.csv\"\n",
    "test_file = \"test_points.csv\""
   ]
  },
  {
   "cell_type": "code",
   "execution_count": 17,
   "id": "05cd95d2-ce15-4f39-92ea-be55b0bf817b",
   "metadata": {},
   "outputs": [],
   "source": [
    "train_df = pd.read_csv(train_file)\n",
    "test_df = pd.read_csv(test_file)"
   ]
  },
  {
   "cell_type": "code",
   "execution_count": 19,
   "id": "b6d1b685-21aa-4f8e-97c5-f838f802235c",
   "metadata": {},
   "outputs": [
    {
     "data": {
      "text/html": [
       "<div>\n",
       "<style scoped>\n",
       "    .dataframe tbody tr th:only-of-type {\n",
       "        vertical-align: middle;\n",
       "    }\n",
       "\n",
       "    .dataframe tbody tr th {\n",
       "        vertical-align: top;\n",
       "    }\n",
       "\n",
       "    .dataframe thead th {\n",
       "        text-align: right;\n",
       "    }\n",
       "</style>\n",
       "<table border=\"1\" class=\"dataframe\">\n",
       "  <thead>\n",
       "    <tr style=\"text-align: right;\">\n",
       "      <th></th>\n",
       "      <th>Lat</th>\n",
       "      <th>Long_</th>\n",
       "      <th>Deaths</th>\n",
       "      <th>Case_Fatality_Ratio</th>\n",
       "    </tr>\n",
       "  </thead>\n",
       "  <tbody>\n",
       "    <tr>\n",
       "      <th>0</th>\n",
       "      <td>33.93911</td>\n",
       "      <td>67.709953</td>\n",
       "      <td>NaN</td>\n",
       "      <td>3.779217</td>\n",
       "    </tr>\n",
       "    <tr>\n",
       "      <th>1</th>\n",
       "      <td>41.15330</td>\n",
       "      <td>20.168300</td>\n",
       "      <td>NaN</td>\n",
       "      <td>1.077234</td>\n",
       "    </tr>\n",
       "    <tr>\n",
       "      <th>2</th>\n",
       "      <td>28.03390</td>\n",
       "      <td>1.659600</td>\n",
       "      <td>NaN</td>\n",
       "      <td>2.536905</td>\n",
       "    </tr>\n",
       "    <tr>\n",
       "      <th>3</th>\n",
       "      <td>42.50630</td>\n",
       "      <td>1.521800</td>\n",
       "      <td>165.0</td>\n",
       "      <td>0.345543</td>\n",
       "    </tr>\n",
       "    <tr>\n",
       "      <th>4</th>\n",
       "      <td>-11.20270</td>\n",
       "      <td>17.873900</td>\n",
       "      <td>NaN</td>\n",
       "      <td>1.836434</td>\n",
       "    </tr>\n",
       "  </tbody>\n",
       "</table>\n",
       "</div>"
      ],
      "text/plain": [
       "        Lat      Long_  Deaths  Case_Fatality_Ratio\n",
       "0  33.93911  67.709953     NaN             3.779217\n",
       "1  41.15330  20.168300     NaN             1.077234\n",
       "2  28.03390   1.659600     NaN             2.536905\n",
       "3  42.50630   1.521800   165.0             0.345543\n",
       "4 -11.20270  17.873900     NaN             1.836434"
      ]
     },
     "execution_count": 19,
     "metadata": {},
     "output_type": "execute_result"
    }
   ],
   "source": [
    "train_df.head()"
   ]
  },
  {
   "cell_type": "code",
   "execution_count": 21,
   "id": "7add69c6-6b40-4ed2-9ff8-df706e94546e",
   "metadata": {},
   "outputs": [
    {
     "name": "stdout",
     "output_type": "stream",
     "text": [
      "Lat                      91\n",
      "Long_                    91\n",
      "Deaths                 1558\n",
      "Case_Fatality_Ratio      44\n",
      "dtype: int64\n"
     ]
    }
   ],
   "source": [
    "# Check for missing values\n",
    "print(train_df.isnull().sum())"
   ]
  },
  {
   "cell_type": "code",
   "execution_count": 36,
   "id": "ad30680e-c6c2-4a44-ba77-35531b215428",
   "metadata": {
    "scrolled": true
   },
   "outputs": [
    {
     "name": "stdout",
     "output_type": "stream",
     "text": [
      "Index(['Lat', 'Long_', 'Deaths', 'Case_Fatality_Ratio'], dtype='object')\n",
      "Lat                    0\n",
      "Long_                  0\n",
      "Deaths                 0\n",
      "Case_Fatality_Ratio    0\n",
      "dtype: int64\n",
      "Index(['Lat', 'Long_', 'Deaths', 'Case_Fatality_Ratio'], dtype='object')\n",
      "Columns 'Deaths', 'Confirmed_Cases', or 'CFR' are missing.\n"
     ]
    }
   ],
   "source": [
    "# Check the columns after applying get_dummies\n",
    "print(train_df.columns)\n",
    "\n",
    "# Check for missing values\n",
    "print(train_df.isnull().sum())\n",
    "\n",
    "# Fill missing numerical values with median\n",
    "train_df.fillna(train_df.median(), inplace=True)\n",
    "\n",
    "# Convert categorical variables (if any)\n",
    "train_df = pd.get_dummies(train_df)\n",
    "\n",
    "# Check again if \"Deaths\", \"Confirmed_Cases\", \"CFR\" are present\n",
    "print(train_df.columns)\n",
    "\n",
    "# If the columns are available, define feature matrix (X) and target variables (y)\n",
    "if \"Deaths\" in train_df.columns and \"Confirmed_Cases\" in train_df.columns and \"CFR\" in train_df.columns:\n",
    "    X = train_df.drop(columns=[\"Deaths\", \"Confirmed_Cases\", \"CFR\"])  # Features\n",
    "    y_deaths = train_df[\"Deaths\"]\n",
    "    y_cases = train_df[\"Confirmed_Cases\"]\n",
    "    y_cfr = train_df[\"CFR\"]\n",
    "\n",
    "    # Split data into training and testing sets for all target variables at once\n",
    "    X_train, X_test, y_train_deaths, y_test_deaths = train_test_split(X, y_deaths, test_size=0.2, random_state=42)\n",
    "    X_train, X_test, y_train_cases, y_test_cases = train_test_split(X, y_cases, test_size=0.2, random_state=42)\n",
    "    X_train, X_test, y_train_cfr, y_test_cfr = train_test_split(X, y_cfr, test_size=0.2, random_state=42)\n",
    "\n",
    "    # Check the shapes of the train and test sets\n",
    "    print(f\"Training set size for deaths: {X_train.shape}, Test set size for deaths: {X_test.shape}\")\n",
    "    print(f\"Training set size for cases: {X_train.shape}, Test set size for cases: {X_test.shape}\")\n",
    "    print(f\"Training set size for CFR: {X_train.shape}, Test set size for CFR: {X_test.shape}\")\n",
    "else:\n",
    "    print(\"Columns 'Deaths', 'Confirmed_Cases', or 'CFR' are missing.\")\n"
   ]
  },
  {
   "cell_type": "code",
   "execution_count": 38,
   "id": "ec9aed30-f4b3-4ccb-ad0d-b41c45b26a5a",
   "metadata": {},
   "outputs": [
    {
     "name": "stdout",
     "output_type": "stream",
     "text": [
      "        Lat      Long_  Deaths  Case_Fatality_Ratio\n",
      "0  33.93911  67.709953    60.0             3.779217\n",
      "1  41.15330  20.168300    60.0             1.077234\n",
      "2  28.03390   1.659600    60.0             2.536905\n",
      "3  42.50630   1.521800   165.0             0.345543\n",
      "4 -11.20270  17.873900    60.0             1.836434\n",
      "Index([], dtype='object')\n",
      "Lat                    0\n",
      "Long_                  0\n",
      "Deaths                 0\n",
      "Case_Fatality_Ratio    0\n",
      "dtype: int64\n"
     ]
    }
   ],
   "source": [
    "# Check the first few rows of the original DataFrame\n",
    "print(train_df.head())\n",
    "\n",
    "# Check for non-numeric columns (to verify if there's a potential categorical variable to convert)\n",
    "print(train_df.select_dtypes(include=['object']).columns)\n",
    "\n",
    "# Check for missing values in the original dataset (before pd.get_dummies)\n",
    "print(train_df.isnull().sum())\n",
    "\n",
    "# If there are additional columns to convert to dummy variables, you can inspect them\n"
   ]
  },
  {
   "cell_type": "code",
   "execution_count": 40,
   "id": "fac70ce3-97e6-4702-9539-622f245402d7",
   "metadata": {},
   "outputs": [
    {
     "name": "stdout",
     "output_type": "stream",
     "text": [
      "RMSE - Linear Regression: 40.80590551880641\n",
      "RMSE - Random Forest: 38.17108918503576\n",
      "RMSE - XGBoost: 39.19737507708416\n"
     ]
    }
   ],
   "source": [
    "# Import necessary libraries\n",
    "from sklearn.linear_model import LinearRegression\n",
    "from sklearn.ensemble import RandomForestRegressor\n",
    "from xgboost import XGBRegressor\n",
    "from sklearn.metrics import mean_squared_error\n",
    "import numpy as np\n",
    "\n",
    "# Linear Regression\n",
    "lr = LinearRegression()\n",
    "lr.fit(X_train, y_train_deaths)\n",
    "pred_lr = lr.predict(X_test)\n",
    "rmse_lr = np.sqrt(mean_squared_error(y_test_deaths, pred_lr))\n",
    "\n",
    "# Random Forest\n",
    "rf = RandomForestRegressor(n_estimators=100, random_state=42)\n",
    "rf.fit(X_train, y_train_deaths)\n",
    "pred_rf = rf.predict(X_test)\n",
    "rmse_rf = np.sqrt(mean_squared_error(y_test_deaths, pred_rf))\n",
    "\n",
    "# XGBoost\n",
    "xgb = XGBRegressor(n_estimators=100, random_state=42)\n",
    "xgb.fit(X_train, y_train_deaths)\n",
    "pred_xgb = xgb.predict(X_test)\n",
    "rmse_xgb = np.sqrt(mean_squared_error(y_test_deaths, pred_xgb))\n",
    "\n",
    "# Print RMSE scores\n",
    "print(f\"RMSE - Linear Regression: {rmse_lr}\")\n",
    "print(f\"RMSE - Random Forest: {rmse_rf}\")\n",
    "print(f\"RMSE - XGBoost: {rmse_xgb}\")\n"
   ]
  },
  {
   "cell_type": "code",
   "execution_count": 42,
   "id": "a7259fc6-903f-4268-8cdd-89eceabd27a6",
   "metadata": {},
   "outputs": [
    {
     "name": "stdout",
     "output_type": "stream",
     "text": [
      "Best Parameters for Random Forest: {'max_depth': 10, 'min_samples_leaf': 4, 'min_samples_split': 10, 'n_estimators': 100}\n",
      "Optimized Random Forest RMSE: 36.52970157156581\n"
     ]
    }
   ],
   "source": [
    "from sklearn.model_selection import GridSearchCV\n",
    "from sklearn.ensemble import RandomForestRegressor\n",
    "\n",
    "# Define Random Forest parameters grid\n",
    "param_grid_rf = {\n",
    "    'n_estimators': [50, 100, 200],\n",
    "    'max_depth': [None, 10, 20, 30],\n",
    "    'min_samples_split': [2, 5, 10],\n",
    "    'min_samples_leaf': [1, 2, 4]\n",
    "}\n",
    "\n",
    "# Initialize Random Forest model\n",
    "rf = RandomForestRegressor(random_state=42)\n",
    "\n",
    "# Perform Grid Search with Cross-Validation\n",
    "grid_search_rf = GridSearchCV(estimator=rf, param_grid=param_grid_rf, cv=5, n_jobs=-1, scoring='neg_mean_squared_error')\n",
    "grid_search_rf.fit(X_train, y_train_deaths)\n",
    "\n",
    "# Best Parameters and Model Evaluation\n",
    "print(f\"Best Parameters for Random Forest: {grid_search_rf.best_params_}\")\n",
    "best_rf = grid_search_rf.best_estimator_\n",
    "pred_rf = best_rf.predict(X_test)\n",
    "rmse_rf = np.sqrt(mean_squared_error(y_test_deaths, pred_rf))\n",
    "print(f\"Optimized Random Forest RMSE: {rmse_rf}\")\n"
   ]
  },
  {
   "cell_type": "code",
   "execution_count": 44,
   "id": "336ca165-fa49-4b9b-9c42-7e90d6231807",
   "metadata": {},
   "outputs": [
    {
     "name": "stdout",
     "output_type": "stream",
     "text": [
      "Best Parameters for XGBoost: {'colsample_bytree': 1.0, 'learning_rate': 0.05, 'max_depth': 3, 'n_estimators': 200, 'subsample': 0.8}\n",
      "Optimized XGBoost RMSE: 36.835212615605265\n"
     ]
    }
   ],
   "source": [
    "from sklearn.model_selection import GridSearchCV\n",
    "from xgboost import XGBRegressor\n",
    "\n",
    "# Define XGBoost parameters grid\n",
    "param_grid_xgb = {\n",
    "    'n_estimators': [50, 100, 200],\n",
    "    'learning_rate': [0.01, 0.05, 0.1],\n",
    "    'max_depth': [3, 6, 10],\n",
    "    'subsample': [0.7, 0.8, 1.0],\n",
    "    'colsample_bytree': [0.7, 0.8, 1.0]\n",
    "}\n",
    "\n",
    "# Initialize XGBoost model\n",
    "xgb = XGBRegressor(random_state=42)\n",
    "\n",
    "# Perform Grid Search with Cross-Validation\n",
    "grid_search_xgb = GridSearchCV(estimator=xgb, param_grid=param_grid_xgb, cv=5, n_jobs=-1, scoring='neg_mean_squared_error')\n",
    "grid_search_xgb.fit(X_train, y_train_deaths)\n",
    "\n",
    "# Best Parameters and Model Evaluation\n",
    "print(f\"Best Parameters for XGBoost: {grid_search_xgb.best_params_}\")\n",
    "best_xgb = grid_search_xgb.best_estimator_\n",
    "pred_xgb = best_xgb.predict(X_test)\n",
    "rmse_xgb = np.sqrt(mean_squared_error(y_test_deaths, pred_xgb))\n",
    "print(f\"Optimized XGBoost RMSE: {rmse_xgb}\")\n"
   ]
  },
  {
   "cell_type": "code",
   "execution_count": 46,
   "id": "eb8c941b-df91-4c51-98ed-5b20b32de7fc",
   "metadata": {},
   "outputs": [
    {
     "name": "stdout",
     "output_type": "stream",
     "text": [
      "Cross-validation scores for Linear Regression: 44.419218642859235\n",
      "Cross-validation scores for Random Forest: 44.95191759932055\n",
      "Cross-validation scores for XGBoost: 44.96006802583916\n"
     ]
    }
   ],
   "source": [
    "from sklearn.model_selection import cross_val_score\n",
    "from sklearn.linear_model import LinearRegression\n",
    "from sklearn.ensemble import RandomForestRegressor\n",
    "from xgboost import XGBRegressor\n",
    "import numpy as np\n",
    "\n",
    "# Perform cross-validation for each model\n",
    "lr = LinearRegression()\n",
    "rf = RandomForestRegressor(n_estimators=100, random_state=42)\n",
    "xgb = XGBRegressor(n_estimators=100, random_state=42)\n",
    "\n",
    "# Linear Regression Cross-validation\n",
    "lr_cv = cross_val_score(lr, X, y_deaths, cv=5, scoring='neg_mean_squared_error')\n",
    "\n",
    "# Random Forest Cross-validation\n",
    "rf_cv = cross_val_score(rf, X, y_deaths, cv=5, scoring='neg_mean_squared_error')\n",
    "\n",
    "# XGBoost Cross-validation\n",
    "xgb_cv = cross_val_score(xgb, X, y_deaths, cv=5, scoring='neg_mean_squared_error')\n",
    "\n",
    "# Displaying cross-validation results\n",
    "print(f\"Cross-validation scores for Linear Regression: {np.mean(np.sqrt(-lr_cv))}\")\n",
    "print(f\"Cross-validation scores for Random Forest: {np.mean(np.sqrt(-rf_cv))}\")\n",
    "print(f\"Cross-validation scores for XGBoost: {np.mean(np.sqrt(-xgb_cv))}\")\n"
   ]
  },
  {
   "cell_type": "code",
   "execution_count": 48,
   "id": "2d0fb650-4de8-4554-9d20-e8999834850d",
   "metadata": {},
   "outputs": [
    {
     "data": {
      "image/png": "[encoded data removed]",
      "text/plain": [
       "<Figure size 640x480 with 1 Axes>"
      ]
     },
     "metadata": {},
     "output_type": "display_data"
    }
   ],
   "source": [
    "import matplotlib.pyplot as plt\n",
    "\n",
    "# Train Random Forest model\n",
    "rf = RandomForestRegressor(n_estimators=100, random_state=42)\n",
    "rf.fit(X_train, y_train_deaths)\n",
    "\n",
    "# Plot feature importance\n",
    "feature_importances = rf.feature_importances_\n",
    "features = X.columns\n",
    "\n",
    "plt.barh(features, feature_importances)\n",
    "plt.xlabel(\"Feature Importance\")\n",
    "plt.title(\"Random Forest Feature Importance\")\n",
    "plt.show()\n"
   ]
  },
  {
   "cell_type": "code",
   "execution_count": 52,
   "id": "e4478757-d6f3-4f6a-83ca-5a2bc28be4d5",
   "metadata": {
    "scrolled": true
   },
   "outputs": [
    {
     "data": {
      "image/png": "[encoded data removed]",
      "text/plain": [
       "<Figure size 640x480 with 1 Axes>"
      ]
     },
     "metadata": {},
     "output_type": "display_data"
    }
   ],
   "source": [
    "import matplotlib.pyplot as plt\n",
    "from xgboost import plot_importance\n",
    "\n",
    "# Train XGBoost model\n",
    "xgb = XGBRegressor(n_estimators=100, random_state=42)\n",
    "xgb.fit(X_train, y_train_deaths)\n",
    "\n",
    "# Extract the Booster object from XGBRegressor\n",
    "booster = xgb.get_booster()\n",
    "\n",
    "# Plot feature importance\n",
    "plot_importance(booster, importance_type=\"weight\")\n",
    "plt.title(\"XGBoost Feature Importance\")\n",
    "plt.show()\n"
   ]
  },
  {
   "cell_type": "code",
   "execution_count": 54,
   "id": "4985879f-0368-42de-9b7a-a35e5e1049f9",
   "metadata": {},
   "outputs": [
    {
     "name": "stdout",
     "output_type": "stream",
     "text": [
      "Model saved successfully!\n"
     ]
    }
   ],
   "source": [
    "import pickle\n",
    "\n",
    "# After grid search, we can access the best model like this\n",
    "best_model = grid_search_xgb.best_estimator_\n",
    "\n",
    "# Save the best model (assuming XGBoost is the best)\n",
    "with open(\"best_model.pkl\", \"wb\") as model_file:\n",
    "    pickle.dump(best_model, model_file)\n",
    "\n",
    "print(\"Model saved successfully!\")\n"
   ]
  },
  {
   "cell_type": "code",
   "execution_count": 56,
   "id": "6cfb4122-5c09-4e12-917d-d9832e6317c9",
   "metadata": {},
   "outputs": [
    {
     "name": "stdout",
     "output_type": "stream",
     "text": [
      "Model saved successfully!\n"
     ]
    }
   ],
   "source": [
    "import pickle\n",
    "\n",
    "# Train XGBoost model\n",
    "xgb = XGBRegressor(n_estimators=100, random_state=42)\n",
    "xgb.fit(X_train, y_train_deaths)\n",
    "\n",
    "# Save the trained model\n",
    "with open(\"xgb_model.pkl\", \"wb\") as model_file:\n",
    "    pickle.dump(xgb, model_file)\n",
    "\n",
    "print(\"Model saved successfully!\")\n"
   ]
  },
  {
   "cell_type": "code",
   "execution_count": 58,
   "id": "24798bdb-4f57-49a4-94d5-4046a199262e",
   "metadata": {},
   "outputs": [
    {
     "name": "stdout",
     "output_type": "stream",
     "text": [
      "[ 75.04046   91.21029   93.22266   54.541935  82.33519   52.145508\n",
      "  71.09623   66.8726    84.08173   58.090397  74.52948   86.712296\n",
      "  46.97878   89.07141   80.01      38.359196  50.80269   66.92465\n",
      "  97.998085  50.058144  79.42691   91.14569   96.352425  81.172646\n",
      "  74.337944  25.927303  67.12145   64.58964   89.62764   88.481384\n",
      "  93.44525   64.62772   82.558365  81.23354   57.526215  59.97181\n",
      "  25.833683  71.5826    37.62224   54.739     68.03681   77.48467\n",
      "  95.00932   88.41371   89.36938   25.927303  85.99641   83.027725\n",
      "  91.08526   37.925488  78.62665   91.8209    72.33238   88.775314\n",
      "  52.88117   53.163242  49.042694   6.435561  85.03757   58.320545\n",
      "  74.633644  60.480827  84.459694  72.284386  63.116665  33.123196\n",
      "  76.47163   65.6266    69.567245  57.939617  82.790115  71.08559\n",
      "  72.06883   29.21489   70.79877   66.148735  84.38968   25.927303\n",
      "  61.95339   51.704643  90.34555   57.29965   73.319336  60.496845\n",
      "  59.267654  86.73      83.08707   66.23176   85.417915  82.43337\n",
      "  58.799652  56.346973  77.750374  91.336876  82.37626   46.107582\n",
      "  38.768417  91.59554   25.927303  75.607185  71.6639    44.717285\n",
      "  63.09687   43.40882   72.837776   7.023363  74.93841   43.70158\n",
      "  35.382343  45.800953  65.07697   94.44478   60.480785  77.071236\n",
      "  83.454094  29.000689  91.21029   59.46378   71.55649   94.49447\n",
      "  72.06736   94.18655   76.37883   61.390297  80.26175   83.9919\n",
      "  81.172646  49.342163  22.790808  83.25116   56.197224  66.54841\n",
      "  46.70267   92.71113   88.41411   61.899574  77.38442   69.60137\n",
      "  84.83918   59.571953  83.726685  77.07601   81.95095   94.25098\n",
      "  83.32358   50.930355  79.61592   67.392136  88.81383    7.33871\n",
      "  49.943317  73.09176   54.82914   58.2076    90.39821   82.006645\n",
      "  60.480827  87.01902   73.974075  57.378635  61.983433  80.03948\n",
      "  95.31408   71.75216   90.41203   83.54657   61.687527  54.4224\n",
      " 101.29941    6.435561  77.63465   61.18835   74.33138   62.45837\n",
      "  77.90188   53.51236   54.859344  80.305046  89.55731   79.31688\n",
      "  39.868484  61.882458  66.23176   30.283854   6.435561  68.23951\n",
      "  84.38968   38.233795  93.42389   54.570988  79.55829   90.41203\n",
      "  25.927303  87.52126   50.438953  23.451803  80.1694    85.22403\n",
      "  84.03778   50.058144  81.924965  84.03778   82.59393   35.382343\n",
      "  33.81284   87.987526  62.995575  93.303444  60.480827  78.68017\n",
      "  91.209564  50.34249   60.480827  78.911804  54.368332  70.016075\n",
      "  60.480827  80.21071   81.39599   83.36822   61.588528  53.760216\n",
      "  79.192535  70.39493   78.49422   76.99163   64.8284    49.40694\n",
      "  82.55142   60.480827  79.70952   53.962307  27.580654  91.8209\n",
      "  87.144615  79.85457   31.72752   25.927303  79.79262   57.941204\n",
      "  82.71667   25.927303  84.285675  25.927303  86.10007   77.03266\n",
      "  78.00194   71.8189    57.406364  26.28704   91.22455   82.18114\n",
      "  62.68532   86.61903   78.42653   87.068504  90.5696    92.07055\n",
      "  60.718044  54.903893  81.75125   53.560284  75.93215   38.30422\n",
      "  36.639793  93.87538   90.52582   65.27204   92.398636  60.26181\n",
      "  74.61462   75.36188   82.2593    83.34167   69.63357   63.894203\n",
      "  59.682076  91.8209    70.33371   51.253952  90.992455  86.19147\n",
      "  28.869822  87.987526  79.24889   81.38332   88.392     60.480827\n",
      "  78.847275  81.02003   27.826393  71.95874   59.571953  72.90014\n",
      "  30.00708   64.33885   60.480827  84.34091   75.07898   77.95999\n",
      "  72.01439   84.3037    85.38769   65.54564   98.80581   86.717476\n",
      "  79.46345   78.94308   38.75995   70.32081   70.18165   82.162796\n",
      "  61.982594  92.12204   61.780777  72.194984  52.145508  83.29893\n",
      "  89.994705  72.70623   66.75119   57.980286   7.023363  60.895905\n",
      "  49.513664  50.500793  26.482296  91.34075   90.46461   62.983147\n",
      "  94.876114  50.109844  62.798824  62.58462   99.274025  72.194984\n",
      "  65.02297   90.41203   25.927303  83.06814   30.595768  71.01485\n",
      "  87.72588   60.480827  92.67998   83.60884   78.32559   86.696785\n",
      "  85.807495  65.27204   75.902306  50.862255  56.53461   89.31643\n",
      "  46.568798  83.7646    59.571953  48.467644  84.61702   89.048676\n",
      "  59.043915  65.86766   55.641266  25.927303  60.77672   87.60936\n",
      "  36.503845  62.688244  84.010345  82.55142   86.33556   89.63318\n",
      "  62.35078   71.02895   72.32898   63.116665  79.98971   73.56704\n",
      "  71.75216   32.51155   43.059498  72.510704  94.54954   91.15032\n",
      "   7.33871   60.496845  91.34075   74.05774   73.997154  73.01478\n",
      "  41.60833   56.832645  65.27204   60.480827  81.02003   84.96061\n",
      "  59.910275  77.15955   94.30854   59.571953  58.887623  61.04587\n",
      "  63.56595   61.586502  50.108932  71.75216   60.572002  49.947132\n",
      "  56.670395  89.90036   33.38569   63.782936  54.453762  91.34075\n",
      "  31.699984  83.41501   82.489815  83.76858   56.203873  92.61868\n",
      "  77.8176    68.019104  44.288525  75.93215   66.75524   82.379555\n",
      "  75.93215   54.532734  84.498764  64.63492   82.14366   86.77652\n",
      "  49.40694   67.45961   51.69463   82.68051   85.92917   59.571953\n",
      "  86.298065  33.990456  36.18529   61.18835   76.59525   49.537342\n",
      "  89.290886  86.71593   82.55142   72.63512   89.20922   88.95277\n",
      "  62.773346  59.571953  23.40721   23.451803  50.49185   76.170586\n",
      "  72.27002   87.81912   53.347248  83.170525  86.53978   53.074886\n",
      "  90.726265  47.727135  61.6769    80.227745  79.72748   95.220055\n",
      "  56.197224  45.677322  71.66056   77.669914  51.050808  85.465195\n",
      "  53.180073  50.31528   87.08476   64.26082   63.35392   70.53928\n",
      "  90.27851   63.638485  93.59928   25.927303  83.36822   85.97126\n",
      "  92.99323   72.391365  29.785767  71.5826    71.95874   76.0195\n",
      "  68.902214  75.410995  90.73014   81.359856  61.958427  84.3037\n",
      "  52.63425   81.30934   91.2184    65.19446   80.903625  84.459694\n",
      "  25.927303  47.3367    64.29901   55.096916  25.267607  75.04046\n",
      "  83.32173   57.360096  54.875214  24.87095   49.7829    50.815655\n",
      "  80.514336  81.7671    71.66056   81.46936   89.01005   55.844814\n",
      "  82.1766    64.396645  47.2243    60.480827  81.966896  63.56595\n",
      "  71.75216   75.76308   51.432602  24.438843  25.570862  77.56724\n",
      "  57.108654  60.511814  53.33076   36.571793  81.96444   24.8837\n",
      "  37.004665  72.90014  100.91445   90.59835   86.93387   72.07002\n",
      "  75.815216  55.27057   78.847275  79.31688   54.47571   92.61679\n",
      "  71.228966  46.70267   77.70373   82.72992   84.59036   83.52796\n",
      "  82.45116   91.8209    86.54618   84.64186   67.13246   74.45843\n",
      "  86.33556   37.559055  38.74167   75.13376   89.12064   25.927303\n",
      "  59.043915  95.67342   70.793304  48.603878  56.204308  61.063717\n",
      "  70.966736  78.72752   49.502186  64.03077   74.69257   79.873505\n",
      "  92.11682   59.45665   52.684856  79.52667   62.897404  57.589516\n",
      "  68.38908   71.76979   46.70267   54.79854   74.68559   78.28917\n",
      "  87.88633   25.927303  80.275955  95.5967    73.82916   54.932514\n",
      "  54.096794  78.13248   59.682076  64.29901   89.994705  61.854492\n",
      "  84.84603   49.07568   55.096916  52.89578   21.340822  60.480827\n",
      "  25.927303  58.320545  61.595512  72.47945   68.58828   85.86407\n",
      "  93.82538   76.16736   84.25354   84.447296  70.2197    52.87094\n",
      "  61.48648   91.47705   90.372246  74.00963   55.650677  55.483242\n",
      "  82.98298   87.50429   84.03778   79.210846  88.63582   82.675865\n",
      "  76.4734    73.86249   90.42615   23.705662  75.89601   33.38569\n",
      "  25.927303  78.14598   89.21116   68.019104  93.79408   73.82532\n",
      "  70.33371   60.480785  81.58367   85.90329   61.588528  33.38569\n",
      "  38.768417  48.391335  77.55921   90.87642   81.49365   86.61903\n",
      "  86.33636   55.06602   79.75647   76.84226   82.47261   72.510704\n",
      "  63.56595   80.90819   24.358204  83.170525  91.69742   78.28309\n",
      "  74.00963   72.90014   75.96064   67.16357   59.571953  84.59036\n",
      "  77.53695   32.51155   69.09122   81.315216  75.522224  82.0858\n",
      "  85.08774   88.81383   59.97181   79.61319   84.5872    88.828896\n",
      "  82.1766    24.102318  86.186325  88.88004   87.792465  32.489296\n",
      "  83.35109   52.296803  71.89672   89.61911  102.06306   81.62632\n",
      "  80.903625  25.927303  51.280083  75.210655  48.19296   76.28013\n",
      "  81.54159   73.82532   81.129005  25.927303  90.59835   81.30934\n",
      "  64.527794  59.682076  93.44525   72.00292   68.692604  90.81849\n",
      "  85.76807   83.52796   79.01088   65.47183   67.27137   61.495502\n",
      "  74.36735   57.338783  91.336876  82.55142   80.32993   75.290146\n",
      "  51.59922   46.70267   66.78893   87.63181   53.904446  66.783424\n",
      "  21.793442  29.785767  47.317234  26.083439  53.967793  92.75414\n",
      "  77.488205  74.161316  76.60464   62.35078   80.0729    77.90874\n",
      "  56.72292   92.26498   88.580124  86.07712   70.06481  101.07019\n",
      "  25.927303  64.527794  37.995094  16.76898   60.480827  73.866585\n",
      "  88.89411   70.79663   56.84623   51.915276  75.93215   59.739323\n",
      "  52.46067   56.866463  81.46936   55.032864  77.38442   86.71593\n",
      "  86.8846    50.659016  73.997154  80.27042   83.25204   71.75216\n",
      "  59.62699   58.30605   59.682076  83.918076  23.740791   6.435561\n",
      "  85.03757   59.56534   45.913113  91.54104   79.82153   83.2579\n",
      "  85.60085   92.542915  61.249695  25.927303  82.25298   72.33238\n",
      "  33.91934   93.25195   50.804424  91.8209    80.18747   80.43722 ]\n"
     ]
    }
   ],
   "source": [
    "import pickle\n",
    "\n",
    "# Load the saved model\n",
    "with open(\"best_model.pkl\", \"rb\") as model_file:\n",
    "    loaded_model = pickle.load(model_file)\n",
    "\n",
    "# Make predictions with the loaded model\n",
    "predictions = loaded_model.predict(X_test)\n",
    "print(predictions)\n"
   ]
  },
  {
   "cell_type": "code",
   "execution_count": 60,
   "id": "0d43ea52-82eb-4926-a898-6b0ac4e337e1",
   "metadata": {},
   "outputs": [
    {
     "name": "stdout",
     "output_type": "stream",
     "text": [
      "Predictions saved to test_predictions.csv\n"
     ]
    }
   ],
   "source": [
    "# Load test data and fill missing values\n",
    "test_df.fillna(test_df.median(), inplace=True)  # Fill missing values with median\n",
    "test_df = pd.get_dummies(test_df)  # Convert categorical variables to dummy variables\n",
    "\n",
    "# Ensure test features match train features\n",
    "missing_cols = set(X.columns) - set(test_df.columns)\n",
    "for col in missing_cols:\n",
    "    test_df[col] = 0  # Add missing columns with default 0\n",
    "\n",
    "# Reorder columns to match training data's feature order\n",
    "test_df = test_df[X.columns]  # Make sure the test data columns match the order of training data columns\n",
    "\n",
    "# Predict using the trained model (best_model)\n",
    "test_predictions = best_model.predict(test_df)\n",
    "\n",
    "# Save predictions to the test dataframe\n",
    "test_df[\"Predicted_Deaths\"] = test_predictions\n",
    "\n",
    "# Save the predictions to a CSV file\n",
    "test_df.to_csv(\"test_predictions.csv\", index=False)\n",
    "\n",
    "print(\"Predictions saved to test_predictions.csv\")\n",
    "\n"
   ]
  },
  {
   "cell_type": "code",
   "execution_count": 66,
   "id": "062d4ae5-9714-461c-a4f9-a7ce18268474",
   "metadata": {},
   "outputs": [
    {
     "name": "stdout",
     "output_type": "stream",
     "text": [
      "Predictions saved to test_predictions.csv\n"
     ]
    }
   ],
   "source": [
    "# Save predictions\n",
    "test_df[\"Predicted_Deaths\"] = test_predictions\n",
    "test_df.to_csv(\"test_predictions.csv\", index=False)\n",
    "\n",
    "print(\"Predictions saved to test_predictions.csv\")\n"
   ]
  },
  {
   "cell_type": "code",
   "execution_count": 78,
   "id": "1c99027c-29d5-48eb-a45d-fed1ce3cb583",
   "metadata": {},
   "outputs": [
    {
     "name": "stdout",
     "output_type": "stream",
     "text": [
      "RMSE: 38.60979433932946\n"
     ]
    }
   ],
   "source": [
    "# Load the saved predictions\n",
    "test_predictions_df = pd.read_csv('test_predictions.csv')\n",
    "\n",
    "# Simulating true deaths data for testing\n",
    "test_predictions_df['True_Deaths'] = np.random.randint(0, 100, size=len(test_predictions_df))  # Replace with real data\n",
    "\n",
    "# Calculate RMSE using the simulated true deaths\n",
    "rmse = np.sqrt(mean_squared_error(test_predictions_df['True_Deaths'], test_predictions_df['Predicted_Deaths']))\n",
    "print(f\"RMSE: {rmse}\")\n"
   ]
  },
  {
   "cell_type": "code",
   "execution_count": 80,
   "id": "9700ca31-ea1d-4d20-bb6e-fa0314154fc8",
   "metadata": {},
   "outputs": [
    {
     "name": "stdout",
     "output_type": "stream",
     "text": [
      "Best Hyperparameters: {'subsample': 0.8, 'n_estimators': 100, 'min_child_weight': 3, 'max_depth': 3, 'learning_rate': 0.1, 'colsample_bytree': 1.0}\n"
     ]
    }
   ],
   "source": [
    "from sklearn.model_selection import RandomizedSearchCV\n",
    "from scipy.stats import randint\n",
    "\n",
    "# Define hyperparameter space\n",
    "param_dist = {\n",
    "    'learning_rate': [0.01, 0.05, 0.1, 0.2, 0.3],\n",
    "    'n_estimators': [50, 100, 200, 500],\n",
    "    'max_depth': [3, 5, 7, 10],\n",
    "    'min_child_weight': [1, 3, 5],\n",
    "    'subsample': [0.6, 0.8, 1.0],\n",
    "    'colsample_bytree': [0.6, 0.8, 1.0],\n",
    "}\n",
    "\n",
    "# Set up RandomizedSearchCV\n",
    "xgb = XGBRegressor(random_state=42)\n",
    "random_search = RandomizedSearchCV(xgb, param_distributions=param_dist, n_iter=100, cv=3, n_jobs=-1, random_state=42)\n",
    "random_search.fit(X_train, y_train_deaths)\n",
    "\n",
    "# Best hyperparameters found\n",
    "print(f\"Best Hyperparameters: {random_search.best_params_}\")\n"
   ]
  },
  {
   "cell_type": "code",
   "execution_count": 82,
   "id": "6e7501af-4b72-4a01-ae7f-351f8d176197",
   "metadata": {},
   "outputs": [
    {
     "name": "stdout",
     "output_type": "stream",
     "text": [
      "RMSE with Best Hyperparameters: 37.02769325123951\n"
     ]
    }
   ],
   "source": [
    "# Retrain XGBoost with the best hyperparameters\n",
    "best_xgb = XGBRegressor(\n",
    "    subsample=0.8, \n",
    "    n_estimators=100, \n",
    "    min_child_weight=3, \n",
    "    max_depth=3, \n",
    "    learning_rate=0.1, \n",
    "    colsample_bytree=1.0,\n",
    "    random_state=42\n",
    ")\n",
    "\n",
    "# Fit the model to the training data\n",
    "best_xgb.fit(X_train, y_train_deaths)\n",
    "\n",
    "# Make predictions on the test data\n",
    "best_xgb_predictions = best_xgb.predict(X_test)\n",
    "\n",
    "# Calculate RMSE\n",
    "rmse_best_xgb = np.sqrt(mean_squared_error(y_test_deaths, best_xgb_predictions))\n",
    "print(f\"RMSE with Best Hyperparameters: {rmse_best_xgb}\")\n"
   ]
  },
  {
   "cell_type": "code",
   "execution_count": 84,
   "id": "182d2ac4-a0e1-419d-bb9b-97e624fb8290",
   "metadata": {},
   "outputs": [
    {
     "name": "stdout",
     "output_type": "stream",
     "text": [
      "Cross-validated RMSE with Best Hyperparameters: 42.17860491871315\n"
     ]
    }
   ],
   "source": [
    "# Apply cross-validation to XGBoost with best hyperparameters\n",
    "scores_best_xgb = cross_val_score(best_xgb, X, y_deaths, cv=5, scoring='neg_mean_squared_error')\n",
    "\n",
    "# Print the mean RMSE from cross-validation\n",
    "print(f\"Cross-validated RMSE with Best Hyperparameters: {np.sqrt(-scores_best_xgb.mean())}\")\n"
   ]
  },
  {
   "cell_type": "code",
   "execution_count": 86,
   "id": "192070d7-d350-49b2-9ff4-cc6eb3ba0749",
   "metadata": {},
   "outputs": [
    {
     "name": "stdout",
     "output_type": "stream",
     "text": [
      "Optimized XGBoost model saved as 'best_xgb_model.pkl'\n"
     ]
    }
   ],
   "source": [
    "import pickle\n",
    "\n",
    "# Save the best model (retrained with the best hyperparameters)\n",
    "with open(\"best_xgb_model.pkl\", \"wb\") as model_file:\n",
    "    pickle.dump(best_xgb, model_file)\n",
    "\n",
    "print(\"Optimized XGBoost model saved as 'best_xgb_model.pkl'\")\n"
   ]
  },
  {
   "cell_type": "code",
   "execution_count": 92,
   "id": "e30fa3e1-b7c3-4393-ba86-1fe68b8ef121",
   "metadata": {},
   "outputs": [
    {
     "name": "stdout",
     "output_type": "stream",
     "text": [
      "Predictions for simulated new data saved to 'new_data_predictions.csv'\n"
     ]
    }
   ],
   "source": [
    "import pandas as pd\n",
    "import numpy as np\n",
    "\n",
    "# Simulating new data for testing purposes (replace with actual new data)\n",
    "# Using the same feature columns as in your training data\n",
    "new_data = pd.DataFrame({\n",
    "    'Lat': np.random.rand(10),\n",
    "    'Long_': np.random.rand(10),\n",
    "    # Add other features that your model expects, such as 'Feature_X', 'Feature_Y'\n",
    "    # For example:\n",
    "    # 'Feature1': np.random.rand(10),\n",
    "    # 'Feature2': np.random.rand(10),\n",
    "    # 'Feature3': np.random.rand(10)\n",
    "})\n",
    "\n",
    "# Preprocess the new data (fill missing values and one-hot encode)\n",
    "new_data.fillna(new_data.median(), inplace=True)\n",
    "\n",
    "# Ensure columns match the training data (if there are any missing columns, add them with 0 values)\n",
    "missing_cols = set(X.columns) - set(new_data.columns)\n",
    "for col in missing_cols:\n",
    "    new_data[col] = 0\n",
    "\n",
    "# Make predictions on the new data\n",
    "new_predictions = loaded_xgb.predict(new_data)\n",
    "\n",
    "# Save predictions to a new file\n",
    "new_data['Predicted_Deaths'] = new_predictions\n",
    "new_data.to_csv(\"new_data_predictions.csv\", index=False)\n",
    "\n",
    "print(\"Predictions for simulated new data saved to 'new_data_predictions.csv'\")\n"
   ]
  },
  {
   "cell_type": "code",
   "execution_count": 94,
   "id": "367f7a35-a466-4ff7-952e-09832a8c4a72",
   "metadata": {},
   "outputs": [
    {
     "data": {
      "image/png": "[encoded data removed]",
      "text/plain": [
       "<Figure size 640x480 with 1 Axes>"
      ]
     },
     "metadata": {},
     "output_type": "display_data"
    }
   ],
   "source": [
    "import matplotlib.pyplot as plt\n",
    "import xgboost as xgb\n",
    "\n",
    "# Plot feature importance\n",
    "xgb.plot_importance(best_xgb, importance_type=\"weight\", max_num_features=10)\n",
    "plt.title(\"XGBoost Feature Importance\")\n",
    "plt.show()\n"
   ]
  },
  {
   "cell_type": "code",
   "execution_count": 96,
   "id": "fe50f138-0178-46ec-9404-1da7c9432d35",
   "metadata": {},
   "outputs": [
    {
     "name": "stdout",
     "output_type": "stream",
     "text": [
      "R² with Best Hyperparameters: 0.16720364999803516\n"
     ]
    }
   ],
   "source": [
    "from sklearn.metrics import r2_score\n",
    "\n",
    "# Calculate R²\n",
    "r2 = r2_score(y_test_deaths, best_xgb_predictions)\n",
    "print(f\"R² with Best Hyperparameters: {r2}\")\n"
   ]
  },
  {
   "cell_type": "code",
   "execution_count": null,
   "id": "2d56a73d-22be-45fb-ac84-0bcdf264ae3e",
   "metadata": {},
   "outputs": [],
   "source": []
  }
 ],
 "metadata": {
  "kernelspec": {
   "display_name": "Python 3 (ipykernel)",
   "language": "python",
   "name": "python3"
  },
  "language_info": {
   "codemirror_mode": {
    "name": "ipython",
    "version": 3
   },
   "file_extension": ".py",
   "mimetype": "text/x-python",
   "name": "python",
   "nbconvert_exporter": "python",
   "pygments_lexer": "ipython3",
   "version": "3.12.4"
  }
 },
 "nbformat": 4,
 "nbformat_minor": 5
}
